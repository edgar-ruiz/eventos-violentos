{
 "cells": [
  {
   "cell_type": "markdown",
   "id": "4e7f572c",
   "metadata": {},
   "source": [
    "# Análisis de Datos de Conflictos en México con `dplyr`"
   ]
  },
  {
   "cell_type": "markdown",
   "id": "acf58bc0",
   "metadata": {},
   "source": [
    "Este notebook proporciona una introducción básica al análisis de datos en R utilizando el paquete `dplyr`. Está diseñado para personas que no están familiarizadas con Jupyter Notebook o R."
   ]
  },
  {
   "cell_type": "markdown",
   "id": "45ab9065",
   "metadata": {},
   "source": [
    "## ¿Qué es un Jupyter Notebook?\n",
    "Un Jupyter Notebook es una aplicación web que permite crear y compartir documentos que contienen código en vivo, ecuaciones, visualizaciones y texto narrativo. Se utiliza para limpieza y transformación de datos, simulación numérica, modelado estadístico, visualización de datos, aprendizaje automático, y mucho más."
   ]
  },
  {
   "cell_type": "markdown",
   "id": "2c2a6ca4",
   "metadata": {},
   "source": [
    "## ¿Cómo usar este Notebook?\n",
    "- Para ejecutar una celda de código, haz clic en ella y luego presiona `Shift + Enter`.\n",
    "- Puedes modificar el código y volver a ejecutar la celda para ver los resultados actualizados.\n",
    "- Es recomendable ejecutar las celdas en el orden en que se presentan."
   ]
  },
  {
   "cell_type": "markdown",
   "id": "5ea1a8cb",
   "metadata": {},
   "source": [
    "### Instrucciones para Configuración e Importación de Datos\n",
    "En este paso, cargaremos las librerías necesarias y luego importaremos los datos del archivo CSV. Observaremos las primeras filas de la base de datos para familiarizarnos con su estructura."
   ]
  },
  {
   "cell_type": "markdown",
   "id": "b42becfc",
   "metadata": {},
   "source": [
    "## Configuración e Importación de Datos\n",
    "```R\n",
    "# Cargar las librerías necesarias\n",
    "library(dplyr)\n",
    "library(readr)\n",
    "\n",
    "# Importar la base de datos\n",
    "datos_conflicto <- read_csv('conflict_data_mex.csv')\n",
    "\n",
    "# Visualizar las primeras filas de la base de datos\n",
    "head(datos_conflicto)\n",
    "```"
   ]
  },
  {
   "cell_type": "markdown",
   "id": "6a0bc28a",
   "metadata": {},
   "source": [
    "### Instrucciones para `select`\n",
    "Aquí seleccionaremos columnas específicas de la base de datos para simplificar nuestro análisis. Nos enfocaremos en el año del conflicto, el tipo de violencia, y el número de muertes."
   ]
  },
  {
   "cell_type": "markdown",
   "id": "71cab729",
   "metadata": {},
   "source": [
    "## Selección de Columnas con `select()`\n",
    "```R\n",
    "# Seleccionar solo las columnas de interés: año, tipo de violencia, y número de muertes\n",
    "conflicto_seleccionado <- select(datos_conflicto, year, type_of_violence, deaths_a, deaths_b, deaths_civilians, deaths_unknown)\n",
    "\n",
    "# Ver las primeras filas de los datos seleccionados\n",
    "head(conflicto_seleccionado)\n",
    "```"
   ]
  },
  {
   "cell_type": "markdown",
   "id": "394bc277",
   "metadata": {},
   "source": [
    "### Instrucciones para `filter`\n",
    "En este paso, filtraremos los datos para enfocarnos en un tipo específico de violencia. Por ejemplo, podemos elegir analizar solo los conflictos de tipo político."
   ]
  },
  {
   "cell_type": "markdown",
   "id": "98148aaa",
   "metadata": {},
   "source": [
    "## Filtrado de Datos con `filter()`\n",
    "```R\n",
    "# Filtrar para obtener datos de un tipo específico de violencia, por ejemplo, violencia política (tipo 1)\n",
    "conflicto_politico <- filter(conflicto_seleccionado, type_of_violence == 1)\n",
    "\n",
    "# Ver las primeras filas de los datos filtrados\n",
    "head(conflicto_politico)\n",
    "```"
   ]
  },
  {
   "cell_type": "markdown",
   "id": "4699d00f",
   "metadata": {},
   "source": [
    "### Instrucciones para `mutate`\n",
    "Aquí crearemos una nueva columna que represente el total de muertes en cada incidente, sumando las muertes de cada categoría reportada."
   ]
  },
  {
   "cell_type": "markdown",
   "id": "12e0d811",
   "metadata": {},
   "source": [
    "## Creación de Nuevas Variables con `mutate()`\n",
    "```R\n",
    "# Agregar una nueva columna que indique el total de muertes\n",
    "conflicto_mutado <- mutate(conflicto_politico, total_muertes = deaths_a + deaths_b + deaths_civilians + deaths_unknown)\n",
    "\n",
    "# Ver las primeras filas de los datos mutados\n",
    "head(conflicto_mutado)\n",
    "```"
   ]
  },
  {
   "cell_type": "markdown",
   "id": "81c495a2",
   "metadata": {},
   "source": [
    "### Instrucciones para `group_by` y `summarize`\n",
    "Finalmente, agruparemos los datos por año y utilizaremos la función `summarize` para calcular el total de muertes por año, proporcionando una visión general de la severidad de los conflictos a lo largo del tiempo."
   ]
  },
  {
   "cell_type": "markdown",
   "id": "6861ddd6",
   "metadata": {},
   "source": [
    "## Agrupación y Resumen con `group_by()` y `summarize()`\n",
    "```R\n",
    "# Agrupar por año y contar el número total de muertes por año\n",
    "resumen_muertes <- conflicto_mutado %>%\n",
    "  group_by(year) %>%\n",
    "  summarize(total_muertes_anuales = sum(total_muertes, na.rm = TRUE))\n",
    "\n",
    "# Ver el resumen\n",
    "head(resumen_muertes)\n",
    "```"
   ]
  },
  {
   "cell_type": "markdown",
   "id": "ba0ae6b3",
   "metadata": {},
   "source": [
    "## Notas Finales\n",
    "Este notebook utiliza la base de datos 'conflict_data_mex.csv' para un análisis básico. Asegúrate de tener el archivo en el mismo directorio que este notebook."
   ]
  }
 ],
 "metadata": {},
 "nbformat": 4,
 "nbformat_minor": 5
}
